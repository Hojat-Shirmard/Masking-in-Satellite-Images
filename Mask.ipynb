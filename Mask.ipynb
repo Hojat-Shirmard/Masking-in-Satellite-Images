{
 "cells": [
  {
   "cell_type": "code",
   "execution_count": 3,
   "metadata": {},
   "outputs": [],
   "source": [
    "import fiona\n",
    "import rasterio\n",
    "import rasterio.mask\n",
    "import matplotlib.pyplot as plt"
   ]
  },
  {
   "cell_type": "code",
   "execution_count": null,
   "metadata": {},
   "outputs": [],
   "source": [
    "def clip_by_shape(rasterpath, shapepath):\n",
    "    with fiona.open(shapepath, 'r') as shapefile:\n",
    "        shapes=[feature['geometry'] for feature in shapefile]\n",
    "    with raterio.open (rasterpath) as src:\n",
    "        out_image, out_transform= rasterio.mask.mask(rasterpath, shapepath)\n",
    "    return out_image\n",
    "\n",
    "image_path= (\" \")\n",
    "shape_path= (\" \")\n",
    "\n",
    "clip_by_shape (image_path, shape_path)\n",
    "\n",
    "image= clip_by_shape (image_path, shape_path)\n",
    "plt.plot()\n",
    "plt.imshow(image[0], cmap='gray')\n",
    "plt.show()"
   ]
  }
 ],
 "metadata": {
  "kernelspec": {
   "display_name": "Python 3",
   "language": "python",
   "name": "python3"
  },
  "language_info": {
   "codemirror_mode": {
    "name": "ipython",
    "version": 3
   },
   "file_extension": ".py",
   "mimetype": "text/x-python",
   "name": "python",
   "nbconvert_exporter": "python",
   "pygments_lexer": "ipython3",
   "version": "3.7.7"
  }
 },
 "nbformat": 4,
 "nbformat_minor": 4
}
